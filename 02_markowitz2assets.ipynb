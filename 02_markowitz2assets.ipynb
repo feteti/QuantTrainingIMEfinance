{
 "cells": [
  {
   "cell_type": "markdown",
   "metadata": {},
   "source": [
    "> ### __Otimização por Média-Variância__ (Teoria Moderna de Portfolios)\n",
    "> - Desenvolvido por **Markowitz** em 1952 é a primeira tentativa de uma abordagem quantitativa para alocação de ativos. De forma simples, Markowitz traduz o velho ditado para o mundo das finanças:\n",
    "> <center>\n",
    "> <i>Não coloque todos os ovos em uma mesma cesta.</i>\n",
    "> </center>\n",
    "> \n",
    "> - Apesar de ser um modelo super teórico (e que não funciona bem na prática, como veremos), serve de base para modelos de alocação de ativos mais avançados (Black-Litterman, Hierarchical Risk Parity).  \n",
    "> #### __Definições__:\n",
    "> - A principal pergunta de Markowitz é a seguinte: \n",
    "><center> Como devemos alocar nossos ativos de tal forma que minimizamos o risco?</center>\n",
    ">\n",
    "> - O que, de fato, é risco? No contexto de Markowitz:\n",
    ">\n",
    "> <center> Risco = Variância na Distribuição de Retornos </center>\n",
    ">\n",
    ">- Ou seja, se o retorno do ativo i é uma variável aleatória $R_i$: \n",
    "> $$Risco = var(R_i)$$\n",
    "> - Há outras formas de medir o risco de um certo ativo (ver: VaR, CVar, Negative Variance...)\n",
    ">\n",
    "> ##### __Caso 2 ativos:__\n",
    "> - Suponha que tenhamos dois ativos (PETR4 e VALE3, por exemplo) e que tenhamos uma certa quantia pra investir.\n",
    "> - Seja $\\omega_1$ e $\\omega_2$ a fração da quantia que você irá investir no primeiro e no segundo ativo, respectivamente, \n",
    "> - Como você quer investir tudo, $$\\omega_1 + \\omega_2 = 1$$\n",
    "> - O retorno da sua carteira seria, então: $$R = \\omega_1 R_1  +\\omega_2 R_2  $$\n",
    "> - Pra facilitar, vamos usar uma notação vetorial: \n",
    ">  $$R_{carteira} = \\omega^T R =\\begin{bmatrix} \\omega_1 & \\omega_2 \\end{bmatrix} \\begin{bmatrix} R_1 \\\\ R_2 \\end{bmatrix}$$\n",
    "> -  Para o Retorno Esperado, basta aplicarmos o operado $\\mathbb{E}$\n",
    "> - E a variância, depois de algumas contas:\n",
    "> $$\\sigma^2 = \\omega^T \\Sigma \\omega =  \\begin{bmatrix} \\omega_1 & \\omega_2 \\end{bmatrix} \\begin{bmatrix} \\sigma^2_1 & \\rho \\sigma_1 \\sigma_2 \\\\ \\rho \\sigma_1 \\sigma_2 & \\sigma^2_2   \\end{bmatrix} \\begin{bmatrix} \\omega_1 \\\\ \\omega_2 \\end{bmatrix} $$\n",
    "> - Onde o sigma é a matriz de variância-covariância.\n",
    "> - Suponha então, que dadas essas equações, alguém lhe peça para encontrar a carteira com menor risco. Ou seja, dado que $\\omega_1$ e $\\omega_2$ somam 1, como encontrar uma combinação que minimize $\\sigma^2$?\n",
    "> - Solução __\"Fácil\"__: varrer todos os valores de $\\omega_1$ e encontrar o mínimo. \n",
    "> - Solução __\"Difícil\"__: Cálculo? Otimização? Lagrange?   "
   ]
  },
  {
   "cell_type": "code",
   "execution_count": 1,
   "metadata": {},
   "outputs": [],
   "source": [
    "### Funções que calculam o risco e o retorno de uma certa carteira \n",
    "import numpy as np\n",
    "import matplotlib.pyplot as plt\n",
    "\n",
    "def portfolio_return(omega:np.ndarray, expected_returns: np.ndarray)->float:\n",
    "    return omega.T@expected_returns\n",
    "\n",
    "def portfolio_variance(omega:np.ndarray, sigma: np.ndarray)->float:\n",
    "    return omega.T@sigma@omega\n",
    "\n",
    "def efficient_frontier_2assets(expected_returns:np.ndarray, sigma: np.ndarray, steps:int = 100)->(np.ndarray, np.ndarray):\n",
    "    omega_1 = np.linspace(0, 1, steps)\n",
    "    omega = np.vstack([omega_1, 1-omega_1])\n",
    "\n",
    "    portfolios_returns = portfolio_return(omega, expected_returns).ravel()\n",
    "    portfolios_std = np.sqrt(portfolio_variance(omega, sigma).diagonal()) \n",
    "\n",
    "    return portfolios_returns, portfolios_std"
   ]
  },
  {
   "cell_type": "code",
   "execution_count": 3,
   "metadata": {},
   "outputs": [
    {
     "data": {
      "application/vnd.jupyter.widget-view+json": {
       "model_id": "6e63fbf70e0e47b6bae60b2c82d325ff",
       "version_major": 2,
       "version_minor": 0
      },
      "text/plain": [
       "Output()"
      ]
     },
     "metadata": {},
     "output_type": "display_data"
    },
    {
     "data": {
      "application/vnd.jupyter.widget-view+json": {
       "model_id": "68c1a914adf44e52b5960e6cae668d12",
       "version_major": 2,
       "version_minor": 0
      },
      "text/plain": [
       "VBox(children=(HBox(children=(FloatSlider(value=0.01, description='R Asset 1: ', max=0.02, min=0.001, readout_…"
      ]
     },
     "metadata": {},
     "output_type": "display_data"
    }
   ],
   "source": [
    "import ipywidgets as widgets\n",
    "rho = widgets.FloatSlider(value = 0, min=-1, max = 1, step =0.01, description = 'Correlation: ', readout_format='.3f')\n",
    "sigma_1 = widgets.FloatSlider(value = 0.01, min=0.001, max = 0.02, step =0.001, description = 'Std Asset 1: ', readout_format='.3f')\n",
    "sigma_2 = widgets.FloatSlider(value = 0.02, min=0.001, max = 0.02, step =0.001, description = 'Std Asset 2: ', readout_format='.3f')\n",
    "\n",
    "r_1 = widgets.FloatSlider(value = 0.01, min=0.001, max = 0.02, step =0.001, description = 'R Asset 1: ', readout_format='.3f')\n",
    "r_2 = widgets.FloatSlider(value = 0.015, min=0.001, max = 0.02, step =0.001, description = 'R Asset 2: ', readout_format='.3f')\n",
    "\n",
    "box_returns = widgets.HBox([r_1, r_2])\n",
    "box_var = widgets.HBox([sigma_1, sigma_2])\n",
    "\n",
    "box = widgets.VBox([box_returns, box_var, rho])\n",
    "\n",
    "def plot_efficient_frontier(r_1, r_2, sigma_1, sigma_2, rho):\n",
    "    expected_returns = np.array([[r_1], [r_2]])\n",
    "    sigma = np.array([[sigma_1**2, rho*sigma_1*sigma_2], \n",
    "                      [rho*sigma_1*sigma_2, sigma_2**2]])\n",
    "\n",
    "    portfolios_returns, portfolios_std = efficient_frontier_2assets(expected_returns, sigma, 100)\n",
    "    # with plt.xkcd():\n",
    "    fig, ax = plt.subplots(figsize=(16, 6))\n",
    "    plt.plot(portfolios_std, portfolios_returns, linestyle = '--', color = 'firebrick')\n",
    "    plt.title(\"Fronteira Eficiente - 2 Ativos\")\n",
    "    plt.xlim(0, 0.021)\n",
    "    plt.ylim(0, 0.021)\n",
    "    plt.xlabel('Risco')\n",
    "    plt.ylabel('Retorno Esperado')\n",
    "    plt.grid()\n",
    "            \n",
    "out = widgets.interactive_output(plot_efficient_frontier,  {'r_1': r_1,\n",
    "                                                            'r_2': r_2, \n",
    "                                                            'sigma_1': sigma_1, \n",
    "                                                            'sigma_2': sigma_2, \n",
    "                                                            'rho': rho})\n",
    "\n",
    "display(out, box)"
   ]
  },
  {
   "cell_type": "code",
   "execution_count": null,
   "metadata": {},
   "outputs": [],
   "source": []
  }
 ],
 "metadata": {
  "interpreter": {
   "hash": "fb892b92a9f5e8ac5a7abe4cbaf5c51c3f5851fbbb65fd38389994405445e19f"
  },
  "kernelspec": {
   "display_name": "Python 3.9.7 ('base')",
   "language": "python",
   "name": "python3"
  },
  "language_info": {
   "codemirror_mode": {
    "name": "ipython",
    "version": 3
   },
   "file_extension": ".py",
   "mimetype": "text/x-python",
   "name": "python",
   "nbconvert_exporter": "python",
   "pygments_lexer": "ipython3",
   "version": "3.9.7"
  },
  "orig_nbformat": 4
 },
 "nbformat": 4,
 "nbformat_minor": 2
}
